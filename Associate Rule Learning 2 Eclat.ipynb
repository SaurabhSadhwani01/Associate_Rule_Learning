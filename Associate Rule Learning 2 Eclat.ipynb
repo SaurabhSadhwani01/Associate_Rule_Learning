{
 "cells": [
  {
   "cell_type": "markdown",
   "id": "4671b535-8e4c-449d-a677-0b2de15f95c3",
   "metadata": {},
   "source": [
    "# Associate Rule Learning - Eclat Model (Grocery_Store Dataset)¶\n",
    "# Strategy : To Create Set of Rules by finding out group of Customers who bought 'A' also bought 'B'. (Recommendation System)"
   ]
  },
  {
   "cell_type": "markdown",
   "id": "bd08223e-a052-4550-ba62-4ad8aafa3f7d",
   "metadata": {},
   "source": [
    "## Eclat Model - Only Works On Support"
   ]
  },
  {
   "cell_type": "markdown",
   "id": "13a1ecc1-eedb-4c6d-b3b1-f36bd5c90728",
   "metadata": {},
   "source": [
    "### Data Preprocessing"
   ]
  },
  {
   "cell_type": "code",
   "execution_count": 1,
   "id": "220bfdf3-e4ac-4d38-b389-4183f763d67c",
   "metadata": {},
   "outputs": [
    {
     "name": "stdout",
     "output_type": "stream",
     "text": [
      "Requirement already satisfied: apyori in c:\\users\\saurabh sadhwani\\anaconda3\\lib\\site-packages (1.1.2)\n"
     ]
    }
   ],
   "source": [
    "!pip install apyori"
   ]
  },
  {
   "cell_type": "code",
   "execution_count": 2,
   "id": "d4c790a1-2c26-4753-af9b-8ebd1c4807a5",
   "metadata": {},
   "outputs": [],
   "source": [
    "import pandas as pd \n",
    "import numpy as np\n",
    "import matplotlib.pyplot as plt"
   ]
  },
  {
   "cell_type": "code",
   "execution_count": null,
   "id": "7aac46f1-c678-4333-a431-33170c73a9da",
   "metadata": {},
   "outputs": [],
   "source": [
    "dataset=pd.read_csv(r\"E:\\4. Associate Rule Learning\\Apriori and Eclat\\Dataset\\Dataset_Market_Basket_Optimisation.csv\")\n",
    "transactions=[]\n",
    "for i in range(0, 7501):\n",
    "    transactions.append([str(dataset.values[i,j]) for j in range(0,20)])"
   ]
  },
  {
   "cell_type": "markdown",
   "id": "6994eb3f-1397-4c8a-a8e1-3c68bd7726c6",
   "metadata": {},
   "source": [
    "### Traning Eclat Model on Dataset"
   ]
  },
  {
   "cell_type": "code",
   "execution_count": null,
   "id": "33272c42-36c1-41b4-b9ff-e5e4e552167a",
   "metadata": {},
   "outputs": [],
   "source": [
    "from apyori import apriori\n",
    "rules=apriori(transactions=transactions, min_support=0.003, min_confidence=0.2,min_lift=3 min_length=2, max_length=2)"
   ]
  },
  {
   "cell_type": "markdown",
   "id": "c7130c85-6945-4209-a9a8-9b81f2dbb665",
   "metadata": {},
   "source": [
    "### Visualiazing Results"
   ]
  },
  {
   "cell_type": "markdown",
   "id": "ad84fd4a-9fe2-47f3-80ac-b71ddff1865f",
   "metadata": {},
   "source": [
    "#### Displaying Results Coming Directly from Apriori Mode"
   ]
  },
  {
   "cell_type": "code",
   "execution_count": null,
   "id": "7e06edeb-f2be-407e-ab6f-6ac0d378352c",
   "metadata": {},
   "outputs": [],
   "source": [
    "results=list(rules)\n",
    "results"
   ]
  },
  {
   "cell_type": "markdown",
   "id": "89669a09-e36d-4114-9142-ef59ac53d00a",
   "metadata": {},
   "source": [
    "#### Putting Results in well organised Pandas Dataframe (Sorted)"
   ]
  },
  {
   "cell_type": "code",
   "execution_count": null,
   "id": "aa7b326d-0727-4fe6-8af4-00e876dcc28b",
   "metadata": {},
   "outputs": [],
   "source": [
    "def inspect(results):\n",
    "    lhs =[tuple(results[2][0][0])[0] for result in results]\n",
    "    rhs =[tuple(results[2][0][1])[0] for result in results] \n",
    "    supports= [result[1]for result in results]\n",
    "    return list(zip(lhs, rhs, supports))\n",
    "resultsinDataFrame=pd.DataFrame(inspect(results), columns=['Product 1', 'Product 2', 'Support'])"
   ]
  },
  {
   "cell_type": "code",
   "execution_count": null,
   "id": "1847ca62-9593-49b4-b180-f6da7eca52df",
   "metadata": {},
   "outputs": [],
   "source": [
    "resultsinDataFrame.nlargest(n=10, columns='Support')"
   ]
  }
 ],
 "metadata": {
  "kernelspec": {
   "display_name": "Python 3 (ipykernel)",
   "language": "python",
   "name": "python3"
  },
  "language_info": {
   "codemirror_mode": {
    "name": "ipython",
    "version": 3
   },
   "file_extension": ".py",
   "mimetype": "text/x-python",
   "name": "python",
   "nbconvert_exporter": "python",
   "pygments_lexer": "ipython3",
   "version": "3.11.7"
  },
  "widgets": {
   "application/vnd.jupyter.widget-state+json": {
    "state": {},
    "version_major": 2,
    "version_minor": 0
   }
  }
 },
 "nbformat": 4,
 "nbformat_minor": 5
}
